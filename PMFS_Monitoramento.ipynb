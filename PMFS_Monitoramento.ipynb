{
 "cells": [
  {
   "cell_type": "markdown",
   "id": "b0decb45",
   "metadata": {},
   "source": [
    "### Importando Bibliotecas"
   ]
  },
  {
   "cell_type": "code",
   "execution_count": 29,
   "id": "d564a69b",
   "metadata": {},
   "outputs": [],
   "source": [
    "import urllib, json\n",
    "import pandas as pd\n",
    "import urllib, json\n",
    "from tqdm.notebook import tqdm\n",
    "from datetime import datetime\n",
    "import psycopg2\n"
   ]
  },
  {
   "cell_type": "markdown",
   "id": "6d99e503",
   "metadata": {},
   "source": [
    "### Informações da API"
   ]
  },
  {
   "cell_type": "code",
   "execution_count": 30,
   "id": "a072be50",
   "metadata": {},
   "outputs": [],
   "source": [
    "url = 'https://monitoramento.semas.pa.gov.br/monitoramento/AgendaVerde/ceprofsAtivos'\n",
    "with urllib.request.urlopen(url) as url:\n",
    "    data = json.loads(url.read().decode())\n",
    "\n",
    "df = pd.json_normalize(data)\n",
    "df_pmfs = df[df['classificacao'] == 'PMFS']\n",
    "df_pmfs.columns = ['id', 'cpf_cnpj', 'classificacao', 'nome', 'y', 'x', 'municipio_id', 'municipio_nome']"
   ]
  },
  {
   "cell_type": "markdown",
   "id": "a977cd54",
   "metadata": {},
   "source": [
    "### Banco de Dados"
   ]
  },
  {
   "cell_type": "markdown",
   "id": "92f971c0",
   "metadata": {},
   "source": [
    "### Criando Banco de Dados"
   ]
  },
  {
   "cell_type": "code",
   "execution_count": 31,
   "id": "8fb7ecd0",
   "metadata": {},
   "outputs": [
    {
     "name": "stdout",
     "output_type": "stream",
     "text": [
      "database \"pmfs\" already exists\n",
      "\n"
     ]
    }
   ],
   "source": [
    "import psycopg2\n",
    "\n",
    "conn = psycopg2.connect(\n",
    "   database=\"postgres\",\n",
    "    user='postgres',\n",
    "    password='postgres',\n",
    "    host='localhost',\n",
    "    port= '5432'\n",
    ")\n",
    "  \n",
    "conn.autocommit = True\n",
    "  \n",
    "# Creating a cursor object\n",
    "cursor = conn.cursor()\n",
    "# query to create a database\n",
    "sql = 'CREATE database pmfs'\n",
    "try:\n",
    "    cursor.execute(sql)\n",
    "    conn.close()\n",
    "except Exception as e:\n",
    "    print(e)\n",
    "    pass"
   ]
  },
  {
   "cell_type": "markdown",
   "id": "1e06d206",
   "metadata": {},
   "source": [
    "### Criando Tabelas"
   ]
  },
  {
   "cell_type": "markdown",
   "id": "c59a3656",
   "metadata": {},
   "source": [
    "#### Tabela PMFS"
   ]
  },
  {
   "cell_type": "code",
   "execution_count": 32,
   "id": "0459c9c4",
   "metadata": {},
   "outputs": [],
   "source": [
    "conn = psycopg2.connect(\n",
    "   database=\"pmfs\",\n",
    "    user='postgres',\n",
    "    password='postgres',\n",
    "    host='localhost',\n",
    "    port= '5432'\n",
    ")\n",
    "  \n",
    "conn.autocommit = True\n",
    "  \n",
    "# Creating a cursor object\n",
    "cursor = conn.cursor()\n",
    "# query to create a database \n",
    "sql = \"\"\"\n",
    "    CREATE TABLE IF NOT EXISTS public.pmfs\n",
    "(\n",
    "    id bigint NOT NULL,\n",
    "    cpf_cnpj character varying(20) COLLATE pg_catalog.\"default\" NOT NULL,\n",
    "    classificacao character varying(5) COLLATE pg_catalog.\"default\" DEFAULT 'pmfs'::character varying,\n",
    "    nome character varying(250) COLLATE pg_catalog.\"default\" NOT NULL,\n",
    "    x double precision NOT NULL,\n",
    "    y double precision NOT NULL,\n",
    "    municipio_id bigint NOT NULL,\n",
    "    municipio_nome character varying(150) COLLATE pg_catalog.\"default\" NOT NULL,\n",
    "    CONSTRAINT pmfs_pkey PRIMARY KEY (id)\n",
    ");\n",
    "\"\"\"\n",
    "cursor.execute(sql)\n",
    "conn.close()"
   ]
  },
  {
   "cell_type": "markdown",
   "id": "24d4d31f",
   "metadata": {},
   "source": [
    "#### Tabela Detalhamento"
   ]
  },
  {
   "cell_type": "code",
   "execution_count": 33,
   "id": "b7097f3c",
   "metadata": {},
   "outputs": [],
   "source": [
    "conn = psycopg2.connect(\n",
    "   database=\"pmfs\",\n",
    "    user='postgres',\n",
    "    password='postgres',\n",
    "    host='localhost',\n",
    "    port= '5432'\n",
    ")\n",
    "  \n",
    "conn.autocommit = True\n",
    "  \n",
    "# Creating a cursor object\n",
    "cursor = conn.cursor()\n",
    "# query to create a database \n",
    "sql = \"\"\"\n",
    "CREATE TABLE IF NOT EXISTS public.detalhamento_pmfs\n",
    "(\n",
    "    id bigint NOT NULL GENERATED ALWAYS AS IDENTITY ( INCREMENT 1 START 1 MINVALUE 1 MAXVALUE 9223372036854775807 CACHE 1 ),\n",
    "    numero_autef integer NOT NULL,\n",
    "    data_vencimento date NOT NULL,\n",
    "    nome_produto character varying(50) COLLATE pg_catalog.\"default\" NOT NULL,\n",
    "    unidade_produto character varying(10) COLLATE pg_catalog.\"default\" NOT NULL,\n",
    "    volume_autorizado double precision NOT NULL,\n",
    "    volume_debitado double precision NOT NULL,\n",
    "    area_autorizada double precision NOT NULL,\n",
    "    data_insercao date NOT NULL,\n",
    "    id_pmfs bigint NOT NULL,\n",
    "    saldo double precision,\n",
    "    numero_protocolo character varying(50) COLLATE pg_catalog.\"default\" NOT NULL,\n",
    "    CONSTRAINT detalhamento_pmfs_pkey PRIMARY KEY (id),\n",
    "    CONSTRAINT \"PMFS_DETALHAMENTO_FK\" FOREIGN KEY (id_pmfs)\n",
    "        REFERENCES public.pmfs (id) MATCH SIMPLE\n",
    "        ON UPDATE NO ACTION\n",
    "        ON DELETE NO ACTION\n",
    "        NOT VALID\n",
    ");\n",
    "\n",
    "\"\"\"\n",
    "\n",
    "cursor.execute(sql)\n",
    "conn.close()"
   ]
  },
  {
   "cell_type": "markdown",
   "id": "9e00b2ad",
   "metadata": {},
   "source": [
    "### Inserções"
   ]
  },
  {
   "cell_type": "markdown",
   "id": "485053f8",
   "metadata": {},
   "source": [
    "#### Inserções no Banco pmfs"
   ]
  },
  {
   "cell_type": "code",
   "execution_count": 44,
   "id": "e744856c",
   "metadata": {},
   "outputs": [
    {
     "data": {
      "text/plain": [
       "'id_pmfs,numero_autef,area_autorizada,numero_protocolo,data_vencimento,nome_produto,unidade_produto,volume_autorizado,volume_debitado,saldo,data_insercao'"
      ]
     },
     "execution_count": 44,
     "metadata": {},
     "output_type": "execute_result"
    }
   ],
   "source": [
    "','.join(df_detalhamentos.columns.tolist())"
   ]
  },
  {
   "cell_type": "code",
   "execution_count": 52,
   "id": "2e8a7992",
   "metadata": {},
   "outputs": [
    {
     "name": "stdout",
     "output_type": "stream",
     "text": [
      "Inserções Concluídas com Sucesso!\n"
     ]
    }
   ],
   "source": [
    "conn = psycopg2.connect(\n",
    "   database=\"pmfs\",\n",
    "    user='postgres',\n",
    "    password='postgres',\n",
    "    host='localhost',\n",
    "    port= '5432'\n",
    ")\n",
    "\n",
    "conn.autocommit = True\n",
    "cursor = conn.cursor()\n",
    "cols = \",\".join([str(i) for i in df_pmfs.columns.tolist()])\n",
    "\n",
    "\n",
    "for i,row in df_pmfs.iterrows():\n",
    "    sql = \"INSERT INTO public.pmfs (\" +cols + \") VALUES (\" + \"%s,\"*(len(row)-1) + \"%s) ON CONFLICT DO NOTHING\"\n",
    "    cursor.execute(sql, tuple(row))\n",
    "\n",
    "conn.commit()\n",
    "print('Inserções Concluídas com Sucesso!')"
   ]
  },
  {
   "cell_type": "markdown",
   "id": "e631f51c",
   "metadata": {},
   "source": [
    "#### Requisitando detalhamento no PMFS"
   ]
  },
  {
   "cell_type": "code",
   "execution_count": 35,
   "id": "2bf5eb3e",
   "metadata": {},
   "outputs": [
    {
     "data": {
      "application/vnd.jupyter.widget-view+json": {
       "model_id": "4e42f7f4bae4458a9eade847ddb5fc85",
       "version_major": 2,
       "version_minor": 0
      },
      "text/plain": [
       "Inserções de detalhamentos pmfs:   0%|          | 0/372 [00:00<?, ?it/s]"
      ]
     },
     "metadata": {},
     "output_type": "display_data"
    }
   ],
   "source": [
    "# areaAutorizada numeroProtocolo numero dataVencimento nomeProduto unidadeProduto volumeAutorizado volumeDebitado\n",
    "ids = df_pmfs['id'].tolist()\n",
    "detalhamentos_json = []\n",
    "\n",
    "for id in tqdm(range(0,len(ids)), desc='Inserções de detalhamentos pmfs'):\n",
    "    nome_pmfs = ids[id]\n",
    "    URL_BASE = 'https://monitoramento.semas.pa.gov.br/monitoramento/AgendaVerde/dadosAutefByCeprof?codigoCeprof=' + str(ids[id])\n",
    "    # url = 'https://monitoramento.semas.pa.gov.br/monitoramento/AgendaVerde/ceprofsAtivos'\n",
    "\n",
    "    with urllib.request.urlopen(URL_BASE) as url:\n",
    "        detalhamento_data = json.loads(url.read().decode())\n",
    "\n",
    "    for data in detalhamento_data:\n",
    "        try:\n",
    "            infos = {'id_pmfs': data['ceprof']['id'], 'numero_autef': data['numero'],\n",
    "                     'area_autorizada': data['areaAutorizada'], 'numero_protocolo': data['numeroProtocolo'],\n",
    "                     'data_vencimento': data['dataVencimento'], 'nome_produto':data['detalhamentos'][0]['nomeProduto'],\n",
    "                     'unidade_produto': data['detalhamentos'][0]['unidadeProduto'], 'volume_autorizado': data['detalhamentos'][0]['volumeAutorizado'],\n",
    "                     'volume_debitado': data['detalhamentos'][0]['volumeDebitado'], 'saldo': data['detalhamentos'][0]['volumeAutorizado'] - data['detalhamentos'][0]['volumeDebitado'] ,'data_insercao': datetime.now().strftime(\"%Y-%m-%d %H:%M\")\n",
    "                    }\n",
    "        except Exception as e:\n",
    "            #print('error:', e)\n",
    "            #print('id:', id)\n",
    "            pass\n",
    "        \n",
    "        detalhamentos_json.append(infos)\n",
    "df_detalhamentos = pd.json_normalize(detalhamentos_json)\n"
   ]
  },
  {
   "cell_type": "code",
   "execution_count": 51,
   "id": "3795b3ba",
   "metadata": {},
   "outputs": [],
   "source": [
    "# df_detalhamentos"
   ]
  },
  {
   "cell_type": "markdown",
   "id": "8f663018",
   "metadata": {},
   "source": [
    "#### Inserções detalhamentos PMFS"
   ]
  },
  {
   "cell_type": "code",
   "execution_count": 50,
   "id": "596d2f7c",
   "metadata": {
    "scrolled": true
   },
   "outputs": [
    {
     "name": "stdout",
     "output_type": "stream",
     "text": [
      "Inserções Efetuadas com Sucesso\n"
     ]
    }
   ],
   "source": [
    "import psycopg2\n",
    "conn = psycopg2.connect(\n",
    "   database=\"pmfs\",\n",
    "    user='postgres',\n",
    "    password='postgres',\n",
    "    host='localhost',\n",
    "    port= '5432'\n",
    ")\n",
    "\n",
    "conn.autocommit = True\n",
    "cursor = conn.cursor()\n",
    "cols = \",\".join([str(i) for i in df_detalhamentos.columns.tolist()])\n",
    "\n",
    "for i,row in df_detalhamentos.iterrows():\n",
    "    sql = \"INSERT INTO public.detalhamento_pmfs (\" +cols + \") VALUES (\" + \"%s,\"*(len(row)-1) + \"%s) ON CONFLICT ON CONSTRAINT pmfs_detalhamento_uk DO NOTHING\"\n",
    "    cursor.execute(sql, tuple(row))\n",
    "\n",
    "conn.commit()\n",
    "print('Inserções Efetuadas com Sucesso')"
   ]
  },
  {
   "cell_type": "code",
   "execution_count": 38,
   "id": "6559f13e",
   "metadata": {},
   "outputs": [],
   "source": [
    "# for data in detalhamento_data:\n",
    "# #     areaAutorizada numeroProtocolo numero dataVencimento nomeProduto unidadeProduto volumeAutorizado volumeDebitado\n",
    "#     print(data['ceprof']['id'])\n",
    "#     print(data['numero'], data['areaAutorizada'], data['numeroProtocolo'], data['dataVencimento'])\n",
    "#     print(data['detalhamentos'][0]['nomeProduto'], data['detalhamentos'][0]['unidadeProduto'], data['detalhamentos'][0]['volumeAutorizado'], data['detalhamentos'][0]['volumeDebitado'])"
   ]
  }
 ],
 "metadata": {
  "kernelspec": {
   "display_name": "Python 3 (ipykernel)",
   "language": "python",
   "name": "python3"
  },
  "language_info": {
   "codemirror_mode": {
    "name": "ipython",
    "version": 3
   },
   "file_extension": ".py",
   "mimetype": "text/x-python",
   "name": "python",
   "nbconvert_exporter": "python",
   "pygments_lexer": "ipython3",
   "version": "3.10.4"
  }
 },
 "nbformat": 4,
 "nbformat_minor": 5
}
