{
 "cells": [
  {
   "cell_type": "markdown",
   "id": "50d931fc",
   "metadata": {},
   "source": [
    "### Importando Bibliotecas"
   ]
  },
  {
   "cell_type": "code",
   "execution_count": 17,
   "id": "4ab5256f",
   "metadata": {},
   "outputs": [],
   "source": [
    "from selenium import webdriver\n",
    "from selenium.webdriver.chrome.options import Options\n",
    "import chromedriver_autoinstaller\n",
    "import time"
   ]
  },
  {
   "cell_type": "markdown",
   "id": "e49fad18",
   "metadata": {},
   "source": [
    "#### Setagem de Configuração de Navegação"
   ]
  },
  {
   "cell_type": "code",
   "execution_count": 18,
   "id": "b1b97734",
   "metadata": {},
   "outputs": [],
   "source": [
    "# Configs\n",
    "URL = 'https://monitoramento.semas.pa.gov.br/monitoramento/#/sig'\n",
    "chrome_options = Options()\n",
    "chrome_options.add_argument('ignore-certificate-errors')\n",
    "# chrome_options.add_argument('--headless')\n",
    "chrome_options.add_argument('--no-sandbox')\n",
    "chrome_options.add_argument('--disable-dev-shm-usage')\n",
    "chrome_options.add_argument('--ignore-certificate-errors')\n",
    "\n",
    "# Instanciando Driver\n",
    "chromedriver_path = chromedriver_autoinstaller.install()\n"
   ]
  },
  {
   "cell_type": "markdown",
   "id": "56756f1b",
   "metadata": {},
   "source": [
    "### Acessando o Site e Instanciando Informações PMFS "
   ]
  },
  {
   "cell_type": "code",
   "execution_count": 55,
   "id": "e3fff66c",
   "metadata": {
    "scrolled": false
   },
   "outputs": [
    {
     "name": "stderr",
     "output_type": "stream",
     "text": [
      "/tmp/ipykernel_64593/3890997894.py:2: DeprecationWarning: executable_path has been deprecated, please pass in a Service object\n",
      "  driver = webdriver.Chrome(options=chrome_options, executable_path=chromedriver_path)\n"
     ]
    }
   ],
   "source": [
    "# Direcionamento para o site\n",
    "driver = webdriver.Chrome(options=chrome_options, executable_path=chromedriver_path)\n",
    "driver.get(URL)\n",
    "\n",
    "time.sleep(3) ## Delay de carregamento do Mapa\n",
    "\n",
    "# Instancia dos dados no Mapa\n",
    "agenda_verde = driver.find_element(\"xpath\", '//*[@id=\"sidebar\"]/div[1]/ul/li[1]')\n",
    "agenda_verde.click()\n",
    "time.sleep(1)\n",
    "\n",
    "habilitar_pmfs = driver.find_element(\"xpath\", '/html/body/div/div/mapa-sig/div[1]/div[2]/div[1]/uib-accordion/div/div[1]/div[2]/div/ul/li[2]/span/i[2]')\n",
    "habilitar_pmfs.click()\n",
    "\n",
    "time.sleep(2)\n",
    "\n",
    "for i in range(10, 40):\n",
    "    try:\n",
    "        markers_infos = driver.find_element('css selector', '#sig > mapa-sig > div.mapa.sidebar-map.leaflet-container.leaflet-touch.leaflet-fade-anim.leaflet-grab.leaflet-touch-drag.leaflet-touch-zoom > div.leaflet-pane.leaflet-map-pane > div.leaflet-pane.leaflet-marker-pane > div:nth-child('+ str(i) + ') > i')\n",
    "        markers_infos.click()\n",
    "        time.sleep(2)\n",
    "    except:\n",
    "        pass"
   ]
  },
  {
   "cell_type": "markdown",
   "id": "37807490",
   "metadata": {},
   "source": [
    "### Exibindo Informações dos Markers"
   ]
  },
  {
   "cell_type": "code",
   "execution_count": null,
   "id": "63081f79",
   "metadata": {},
   "outputs": [],
   "source": []
  },
  {
   "cell_type": "code",
   "execution_count": null,
   "id": "2a4c616a",
   "metadata": {},
   "outputs": [],
   "source": []
  }
 ],
 "metadata": {
  "kernelspec": {
   "display_name": "Python 3 (ipykernel)",
   "language": "python",
   "name": "python3"
  },
  "language_info": {
   "codemirror_mode": {
    "name": "ipython",
    "version": 3
   },
   "file_extension": ".py",
   "mimetype": "text/x-python",
   "name": "python",
   "nbconvert_exporter": "python",
   "pygments_lexer": "ipython3",
   "version": "3.10.4"
  }
 },
 "nbformat": 4,
 "nbformat_minor": 5
}
